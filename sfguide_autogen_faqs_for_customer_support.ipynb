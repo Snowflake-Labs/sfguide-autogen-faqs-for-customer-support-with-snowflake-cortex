{
 "cells": [
  {
   "cell_type": "markdown",
   "id": "e3e4cee9-2048-4aad-b499-0f1a9b5eaeac",
   "metadata": {
    "collapsed": false,
    "name": "INTRO",
    "resultHeight": 397
   },
   "source": [
    "# AutoGen FAQs for Customer Support with Snowflake Cortex\n",
    "\n",
    "## Overview\n",
    "\n",
    "This notebook demonstrates how to automatically generate FAQ entries from customer support ticket data using Snowflake's Cortex AI capabilities. The notebook leverages Snowflake's Cortex features and SQL to process customer conversations and create structured FAQ content.\n",
    "\n",
    "## Prerequisites\n",
    "\n",
    "- Access to a Snowflake environment with Cortex enabled"
   ]
  },
  {
   "cell_type": "markdown",
   "id": "fb7635e9-191c-490d-93bb-1df2b349bddd",
   "metadata": {
    "collapsed": false,
    "name": "DATA_EXPLORATION_MD",
    "resultHeight": 153
   },
   "source": [
    "## Data Exploration\n",
    "\n",
    "The notebook includes a preliminary step to examine the structure of customer support tickets. This is done through a simple SQL query that shows sample data from the CUSTOMER_SUPPORT_TICKETS table"
   ]
  },
  {
   "cell_type": "code",
   "execution_count": null,
   "id": "7216c425-f6f7-458e-9c3f-8016920cd4b8",
   "metadata": {
    "collapsed": false,
    "language": "sql",
    "name": "DATA_EXPLORATION",
    "resultHeight": 182
   },
   "outputs": [],
   "source": [
    "Select ISSUE_AREA, ISSUE_CATEGORY, CONVERSATION FROM CUSTOMER_SUPPORT_TICKETS LIMIT 3;"
   ]
  },
  {
   "cell_type": "markdown",
   "id": "cc78ee82-a324-4a2e-9e9f-a8d7073b60ea",
   "metadata": {
    "collapsed": false,
    "name": "FAQ_GENERATION_MD",
    "resultHeight": 476
   },
   "source": [
    "## FAQ Generation Process\n",
    "\n",
    "The core of the notebook is a SQL query that:\n",
    "\n",
    "1. **Groups Conversations**: Combines related conversations by issue area and category\n",
    "2. **Generates Prompts**: Creates AI prompts using the grouped conversations\n",
    "3. **Processes Output**: Handles the AI-generated responses and formats them into structured FAQ entries\n",
    "4. **Stores Results**: Inserts the processed FAQs into the CUSTOMER_SUPPORT_FAQ table\n",
    "\n",
    "Key features of the FAQ generation:\n",
    "- Uses Anthropic Claude 3.5 Sonnet model for generating responses\n",
    "- Implements JSON formatting for structured output\n",
    "- Includes error handling for JSON parsing\n",
    "- Maintains metadata about issue areas and categories"
   ]
  },
  {
   "cell_type": "code",
   "execution_count": null,
   "id": "aa0e48c4-a472-48cd-8726-fe294c989157",
   "metadata": {
    "collapsed": false,
    "language": "sql",
    "name": "FAQ_GENERATION",
    "resultHeight": 112
   },
   "outputs": [],
   "source": [
    "INSERT INTO CUSTOMER_SUPPORT_FAQ (ISSUE_AREA, ISSUE_CATEGORY, QUESTION, ANSWER)\n",
    "WITH GroupedData AS (\n",
    "    SELECT \n",
    "        ISSUE_AREA, \n",
    "        ISSUE_CATEGORY, \n",
    "        LISTAGG(CONVERSATION, ' ||| ') AS CONCATENATED_CONVERSATIONS\n",
    "    FROM CUSTOMER_SUPPORT_TICKETS\n",
    "    GROUP BY ISSUE_AREA, ISSUE_CATEGORY\n",
    "),\n",
    "Prompts AS (\n",
    "    SELECT \n",
    "        ISSUE_AREA, \n",
    "        ISSUE_CATEGORY,\n",
    "        LEFT(\n",
    "            CONCAT(\n",
    "                'You are a customer service assistant. Based on the following conversations, generate an FAQ entry in valid JSON format with two keys: \"question\" and \"answer\". Conversations: ',\n",
    "                CONCATENATED_CONVERSATIONS,\n",
    "                ' Output: {\"question\": \"<your question here>\", \"answer\": \"<your answer here>\"}'\n",
    "            ),\n",
    "            2000 -- Limit the prompt length\n",
    "        ) AS PROMPT\n",
    "    FROM GroupedData\n",
    "),\n",
    "RawOutputs AS (\n",
    "    SELECT \n",
    "        ISSUE_AREA, \n",
    "        ISSUE_CATEGORY,\n",
    "        SNOWFLAKE.CORTEX.COMPLETE('claude-3-5-sonnet', PROMPT) AS RAW_OUTPUT\n",
    "    FROM Prompts\n",
    "),\n",
    "CleanedOutputs AS (\n",
    "    SELECT \n",
    "        ISSUE_AREA, \n",
    "        ISSUE_CATEGORY,\n",
    "        REPLACE(\n",
    "            REPLACE(\n",
    "                REPLACE(\n",
    "                    RAW_OUTPUT,\n",
    "                    '```', '' -- Remove backticks\n",
    "                ),\n",
    "                'json', '' -- Remove \"json\" prefix\n",
    "            ),\n",
    "            '\\n', '' -- Remove newlines\n",
    "        ) AS CLEANED_OUTPUT\n",
    "    FROM RawOutputs\n",
    "),\n",
    "ParsedOutputs AS (\n",
    "    SELECT \n",
    "        ISSUE_AREA,\n",
    "        ISSUE_CATEGORY,\n",
    "        TRY_PARSE_JSON(CLEANED_OUTPUT) AS PARSED_JSON -- Parse cleaned JSON\n",
    "    FROM CleanedOutputs\n",
    "    WHERE TRY_PARSE_JSON(CLEANED_OUTPUT) IS NOT NULL -- Ensure valid JSON parsing\n",
    ")\n",
    "SELECT \n",
    "    ISSUE_AREA, \n",
    "    ISSUE_CATEGORY,\n",
    "    PARSED_JSON:\"question\"::STRING AS QUESTION, -- Extract the question\n",
    "    PARSED_JSON:\"answer\"::STRING AS ANSWER -- Extract the answer\n",
    "FROM ParsedOutputs;\n"
   ]
  },
  {
   "cell_type": "markdown",
   "id": "5a31736d-1509-4551-9262-83985304bca5",
   "metadata": {
    "collapsed": false,
    "name": "REVIEW_RESULTS_MD",
    "resultHeight": 102
   },
   "source": [
    "## Results Review\n",
    "\n",
    "The final step allows viewing the generated FAQs through a simple query"
   ]
  },
  {
   "cell_type": "code",
   "execution_count": null,
   "id": "bad62fa8-6ec4-492c-8da4-500605c6ed8a",
   "metadata": {
    "collapsed": false,
    "language": "sql",
    "name": "REVIEW_RESULTS",
    "resultHeight": 439
   },
   "outputs": [],
   "source": [
    "SELECT * FROM CUSTOMER_SUPPORT_FAQ ORDER BY CREATED_AT DESC;"
   ]
  }
 ],
 "metadata": {
  "kernelspec": {
   "display_name": "Streamlit Notebook",
   "name": "streamlit"
  },
  "lastEditStatus": {
   "authorId": "",
   "authorName": "",
   "lastEditTime": 0,
   "notebookId": "mnbsmnsmoxqiw75v3lvt",
   "sessionId": "f71bd7d8-2575-4d09-aa86-c61835c39d52"
  }
 },
 "nbformat": 4,
 "nbformat_minor": 5
}
